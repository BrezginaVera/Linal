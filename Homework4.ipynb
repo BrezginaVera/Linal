{
  "nbformat": 4,
  "nbformat_minor": 0,
  "metadata": {
    "colab": {
      "name": "Untitled10.ipynb",
      "provenance": [],
      "authorship_tag": "ABX9TyM1exVrRNe+eNWZUSSS4VVd",
      "include_colab_link": true
    },
    "kernelspec": {
      "name": "python3",
      "display_name": "Python 3"
    },
    "language_info": {
      "name": "python"
    }
  },
  "cells": [
    {
      "cell_type": "markdown",
      "metadata": {
        "id": "view-in-github",
        "colab_type": "text"
      },
      "source": [
        "<a href=\"https://colab.research.google.com/github/BrezginaVera/Linal/blob/main/Homework4.ipynb\" target=\"_parent\"><img src=\"https://colab.research.google.com/assets/colab-badge.svg\" alt=\"Open In Colab\"/></a>"
      ]
    },
    {
      "cell_type": "code",
      "metadata": {
        "colab": {
          "base_uri": "https://localhost:8080/"
        },
        "id": "lSLr4rHyVEzc",
        "outputId": "c4f8cfad-a533-4a9c-f555-a72631530f86"
      },
      "source": [
        "#Домашнее задание 4 - Вторая часть №3\n",
        "import numpy \n",
        "M1 = numpy.array([[2, 1, 3], [11, 7, 5], [9, 8, 4]])\n",
        "b = numpy.array([1, -6, -5])\n",
        "numpy.linalg.solve(M1, b)"
      ],
      "execution_count": 1,
      "outputs": [
        {
          "output_type": "execute_result",
          "data": {
            "text/plain": [
              "array([-1.00000000e+00,  9.76996262e-17,  1.00000000e+00])"
            ]
          },
          "metadata": {},
          "execution_count": 1
        }
      ]
    },
    {
      "cell_type": "code",
      "metadata": {
        "colab": {
          "base_uri": "https://localhost:8080/"
        },
        "id": "9g-k8w22X8lM",
        "outputId": "25b47c4d-73ae-45b8-8800-2207ad04851b"
      },
      "source": [
        "#Домашнее задание 4 - Вторая часть №4\n",
        "import numpy \n",
        "M1 = numpy.array([[81, -45, 45], [-45,50, -15], [45, -15, 38]])\n",
        "b = numpy.array([531, -460, 193])\n",
        "numpy.linalg.solve(M1, b)"
      ],
      "execution_count": 2,
      "outputs": [
        {
          "output_type": "execute_result",
          "data": {
            "text/plain": [
              "array([ 6., -5., -4.])"
            ]
          },
          "metadata": {},
          "execution_count": 2
        }
      ]
    }
  ]
}