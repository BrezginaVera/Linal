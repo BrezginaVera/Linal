{
  "nbformat": 4,
  "nbformat_minor": 0,
  "metadata": {
    "colab": {
      "name": "Untitled11.ipynb",
      "provenance": [],
      "authorship_tag": "ABX9TyMhVH/nY1BjYUiiEwe7wTaW",
      "include_colab_link": true
    },
    "kernelspec": {
      "name": "python3",
      "display_name": "Python 3"
    },
    "language_info": {
      "name": "python"
    }
  },
  "cells": [
    {
      "cell_type": "markdown",
      "metadata": {
        "id": "view-in-github",
        "colab_type": "text"
      },
      "source": [
        "<a href=\"https://colab.research.google.com/github/BrezginaVera/Linal/blob/main/Homework5.ipynb\" target=\"_parent\"><img src=\"https://colab.research.google.com/assets/colab-badge.svg\" alt=\"Open In Colab\"/></a>"
      ]
    },
    {
      "cell_type": "code",
      "metadata": {
        "colab": {
          "base_uri": "https://localhost:8080/"
        },
        "id": "xNc09QmYyMFj",
        "outputId": "fb137052-8bdf-4e07-a7c0-cd33a74689cd"
      },
      "source": [
        "#Домашнее задание 5 №1\n",
        "import numpy as np\n",
        "A = np.array([[1, 2, 0], [0, 0, 5], [3, -4, 2], [1, 6, 5], [0, 1, 0]])\n",
        "U, s, W = np.linalg.svd(A)\n",
        "V = W.T\n",
        "D = np.zeros_like(A)\n",
        "D[np.diag_indices(min(A.shape))] = s\n",
        "print (f'Матрица D:\\n{D}')\n",
        "print (f'Матрица V:\\n{V}')\n",
        "print (f'Матрица U:\\n{U}')"
      ],
      "execution_count": 9,
      "outputs": [
        {
          "output_type": "stream",
          "name": "stdout",
          "text": [
            "Матрица D:\n",
            "[[8 0 0]\n",
            " [0 6 0]\n",
            " [0 0 2]\n",
            " [0 0 0]\n",
            " [0 0 0]]\n",
            "Матрица V:\n",
            "[[ 0.07116451 -0.36737824 -0.92734505]\n",
            " [ 0.71702467  0.66514082 -0.20847855]\n",
            " [ 0.69340553 -0.65009301  0.31075368]]\n",
            "Матрица U:\n",
            "[[ 0.17056501  0.15680918 -0.53077508 -0.79905375 -0.16158397]\n",
            " [ 0.39287016 -0.52933945  0.6134793  -0.43375771  0.03082495]\n",
            " [-0.14366152 -0.82449256 -0.52379105  0.14049848  0.07400343]\n",
            " [ 0.88843702  0.06074346 -0.24655277  0.37755832 -0.06042632]\n",
            " [ 0.08125046  0.10831843 -0.08231425 -0.10524851  0.98173958]]\n"
          ]
        }
      ]
    },
    {
      "cell_type": "code",
      "metadata": {
        "colab": {
          "base_uri": "https://localhost:8080/"
        },
        "id": "NwMczV2H1d5s",
        "outputId": "0f29894b-4d4e-4df6-905c-0f716b5aa722"
      },
      "source": [
        "#Домашнее задание 5 №2\n",
        "import numpy as np\n",
        "A = np.array([[1, 2, 0], [0, 0, 5], [3, -4, 2], [1, 6, 5], [0, 1, 0]])\n",
        "from numpy.linalg import norm\n",
        "print(f'Норма Фробениуса:\\n{norm(A, ord=None)}')\n",
        "print(f'Норма Евклида:\\n{norm(A, ord=1)}')"
      ],
      "execution_count": 16,
      "outputs": [
        {
          "output_type": "stream",
          "name": "stdout",
          "text": [
            "Норма Фробениуса:\n",
            "11.045361017187261\n",
            "Норма Евклида:\n",
            "13.0\n"
          ]
        }
      ]
    }
  ]
}